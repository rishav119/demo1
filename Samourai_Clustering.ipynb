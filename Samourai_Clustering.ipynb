{
  "nbformat": 4,
  "nbformat_minor": 0,
  "metadata": {
    "colab": {
      "name": "Samourai Clustering.ipynb",
      "provenance": [],
      "collapsed_sections": [],
      "include_colab_link": true
    },
    "kernelspec": {
      "name": "python3",
      "display_name": "Python 3"
    },
    "language_info": {
      "name": "python"
    }
  },
  "cells": [
    {
      "cell_type": "markdown",
      "metadata": {
        "id": "view-in-github",
        "colab_type": "text"
      },
      "source": [
        "<a href=\"https://colab.research.google.com/github/rishav119/demo1/blob/mybranch/Samourai_Clustering.ipynb\" target=\"_parent\"><img src=\"https://colab.research.google.com/assets/colab-badge.svg\" alt=\"Open In Colab\"/></a>"
      ]
    },
    {
      "cell_type": "markdown",
      "metadata": {
        "id": "sKQ4hNLu3dxr"
      },
      "source": [
        "# Heuristic to capture the Samourai Wallet Trasactions\n",
        "[Samourai](https://samouraiwallet.com/) "
      ]
    },
    {
      "cell_type": "markdown",
      "metadata": {
        "id": "ySTHNMq95iLQ"
      },
      "source": [
        "# Setting up Required Connections"
      ]
    },
    {
      "cell_type": "markdown",
      "metadata": {
        "id": "5YPZDZgz5Bte"
      },
      "source": [
        "## Connecting with BQ Client"
      ]
    },
    {
      "cell_type": "code",
      "metadata": {
        "id": "VkL_3arq3Z7U"
      },
      "source": [
        "PROJECT = 'bigquery-public-data'\n",
        "GCS_BUCKET_NAME  = 'rishav_bucket'\n",
        "BILLING_PROJECT='intelligence-team'\n",
        "DATASET = 'crypto_bitcoin'"
      ],
      "execution_count": 1,
      "outputs": []
    },
    {
      "cell_type": "code",
      "metadata": {
        "id": "a1VD2KKJ5SKe"
      },
      "source": [
        "def show_table(table_name, num_rows=10):\n",
        "  SQL = f\"\"\"\n",
        "    SELECT * \n",
        "    FROM \n",
        "      `{table_name}`\n",
        "    LIMIT {num_rows}\n",
        "  \"\"\"\n",
        "  df = pd.io.gbq.read_gbq(SQL, project_id=BILLING_PROJECT, verbose=True, dialect='standard')\n",
        "  return df.head()\n",
        "\n",
        "def run_query(SQL, no_limit=False, limit=100):\n",
        "  if not no_limit:\n",
        "    _sql = ' '.join([SQL, f'LIMIT {limit}'])\n",
        "  else:\n",
        "    _sql = SQL\n",
        "\n",
        "  df = pd.io.gbq.read_gbq(_sql, project_id=BILLING_PROJECT, verbose=True, dialect='standard')\n",
        "\n",
        "  if not no_limit:\n",
        "    num_rows = limit\n",
        "  else:\n",
        "    num_rows = len(df)\n",
        "  return df.head(num_rows)"
      ],
      "execution_count": 2,
      "outputs": []
    },
    {
      "cell_type": "markdown",
      "metadata": {
        "id": "A8rZz2lT5Yp_"
      },
      "source": [
        "## Authenticating with Google Account"
      ]
    },
    {
      "cell_type": "code",
      "metadata": {
        "id": "QvfbgUSP5b-_"
      },
      "source": [
        "from google.colab import auth\n",
        "auth.authenticate_user()\n",
        "import gspread\n",
        "from oauth2client.client import GoogleCredentials\n",
        "gc = gspread.authorize(GoogleCredentials.get_application_default())"
      ],
      "execution_count": 3,
      "outputs": []
    },
    {
      "cell_type": "markdown",
      "metadata": {
        "id": "ZNn_JaUk5z3j"
      },
      "source": [
        "# Importing Required Packages"
      ]
    },
    {
      "cell_type": "code",
      "metadata": {
        "id": "UbjpdBGF52xc"
      },
      "source": [
        "import pandas as pd\n",
        "import matplotlib.pyplot as plt"
      ],
      "execution_count": 4,
      "outputs": []
    },
    {
      "cell_type": "markdown",
      "metadata": {
        "id": "7kR9SDoK6IfW"
      },
      "source": [
        "# Confirmed Samourai CoinJoin Transactions\n",
        "\n",
        "We are taking the list of confirmed Samourai coinjoin transactions from a [Github](https://github.com/nopara73/WasabiVsSamourai/blob/master/WasabiVsSamourai/SamouraiCoinJoins.txt) Page created Nopara. "
      ]
    },
    {
      "cell_type": "code",
      "metadata": {
        "colab": {
          "base_uri": "https://localhost:8080/",
          "height": 204
        },
        "id": "odcp8SBp7CQ9",
        "outputId": "badb8dc1-7193-4f2a-eecf-7f8d265924b8"
      },
      "source": [
        "#Samourai Transactions on BQ\n",
        "SQL = f\"\"\"\n",
        "        SELECT \n",
        "            trxn_hash\n",
        "        FROM \n",
        "            `intelligence-team.rishav.samourai_trxns`\n",
        "        GROUP BY 1\n",
        "\"\"\"\n",
        "conf_samourai_trxns=run_query(SQL, no_limit=True)\n",
        "conf_samourai_trxns.head()"
      ],
      "execution_count": 5,
      "outputs": [
        {
          "output_type": "execute_result",
          "data": {
            "text/html": [
              "<div>\n",
              "<style scoped>\n",
              "    .dataframe tbody tr th:only-of-type {\n",
              "        vertical-align: middle;\n",
              "    }\n",
              "\n",
              "    .dataframe tbody tr th {\n",
              "        vertical-align: top;\n",
              "    }\n",
              "\n",
              "    .dataframe thead th {\n",
              "        text-align: right;\n",
              "    }\n",
              "</style>\n",
              "<table border=\"1\" class=\"dataframe\">\n",
              "  <thead>\n",
              "    <tr style=\"text-align: right;\">\n",
              "      <th></th>\n",
              "      <th>trxn_hash</th>\n",
              "    </tr>\n",
              "  </thead>\n",
              "  <tbody>\n",
              "    <tr>\n",
              "      <th>0</th>\n",
              "      <td>72024630a91bcd48162664af1f5cf26f1ad5629aeb7f81...</td>\n",
              "    </tr>\n",
              "    <tr>\n",
              "      <th>1</th>\n",
              "      <td>f73c5ec27f76396eac945c184fe22480e22a5ac419b9d8...</td>\n",
              "    </tr>\n",
              "    <tr>\n",
              "      <th>2</th>\n",
              "      <td>e8ec0557daa37502e0ad37d74cdbad0b323b8daf1d262e...</td>\n",
              "    </tr>\n",
              "    <tr>\n",
              "      <th>3</th>\n",
              "      <td>9317fad60a5bed6f54b62b4cda3c98e7238ec8ecfb8d9f...</td>\n",
              "    </tr>\n",
              "    <tr>\n",
              "      <th>4</th>\n",
              "      <td>1ddd4e49dcee946dc76efa18cd807fa33d471ea38f31e1...</td>\n",
              "    </tr>\n",
              "  </tbody>\n",
              "</table>\n",
              "</div>"
            ],
            "text/plain": [
              "                                           trxn_hash\n",
              "0  72024630a91bcd48162664af1f5cf26f1ad5629aeb7f81...\n",
              "1  f73c5ec27f76396eac945c184fe22480e22a5ac419b9d8...\n",
              "2  e8ec0557daa37502e0ad37d74cdbad0b323b8daf1d262e...\n",
              "3  9317fad60a5bed6f54b62b4cda3c98e7238ec8ecfb8d9f...\n",
              "4  1ddd4e49dcee946dc76efa18cd807fa33d471ea38f31e1..."
            ]
          },
          "metadata": {
            "tags": []
          },
          "execution_count": 5
        }
      ]
    },
    {
      "cell_type": "code",
      "metadata": {
        "colab": {
          "base_uri": "https://localhost:8080/"
        },
        "id": "JNBKRdMl8dIo",
        "outputId": "b3fcee5a-08cc-42cb-f94e-3a7fe83e011d"
      },
      "source": [
        "#Total confirmed samourai conjoin transctions\n",
        "len(conf_samourai_trxns)"
      ],
      "execution_count": 6,
      "outputs": [
        {
          "output_type": "execute_result",
          "data": {
            "text/plain": [
              "7310"
            ]
          },
          "metadata": {
            "tags": []
          },
          "execution_count": 6
        }
      ]
    },
    {
      "cell_type": "markdown",
      "metadata": {
        "id": "BFJPdcUG_16L"
      },
      "source": [
        "## Analyzing Samourai transactions"
      ]
    },
    {
      "cell_type": "markdown",
      "metadata": {
        "id": "0lzmQn2eAG6U"
      },
      "source": [
        "### Finding the samourai reused change addresses"
      ]
    },
    {
      "cell_type": "code",
      "metadata": {
        "colab": {
          "base_uri": "https://localhost:8080/",
          "height": 204
        },
        "id": "RvAPZMvM_6i0",
        "outputId": "3ba7c6fa-605f-40c7-e7f2-ab40bdf5fda2"
      },
      "source": [
        "SQL = f\"\"\"\n",
        "          SELECT \n",
        "              ARRAY_TO_STRING(outputs.addresses,'') as output_address, \n",
        "              COUNT(DISTINCT transaction_hash) as trxn_count\n",
        "          FROM \n",
        "              `bigquery-public-data.crypto_bitcoin.outputs` AS outputs\n",
        "          WHERE \n",
        "              transaction_hash IN \n",
        "                        (\n",
        "                            SELECT \n",
        "                                trxn_hash \n",
        "                            FROM \n",
        "                                `intelligence-team.rishav.samourai_trxns`\n",
        "                        )\n",
        "          GROUP BY 1\n",
        "          ORDER BY 2 DESC\n",
        "\"\"\"\n",
        "samourai_outputs_addr = run_query(SQL, no_limit=True)\n",
        "samourai_outputs_addr.head()"
      ],
      "execution_count": 7,
      "outputs": [
        {
          "output_type": "execute_result",
          "data": {
            "text/html": [
              "<div>\n",
              "<style scoped>\n",
              "    .dataframe tbody tr th:only-of-type {\n",
              "        vertical-align: middle;\n",
              "    }\n",
              "\n",
              "    .dataframe tbody tr th {\n",
              "        vertical-align: top;\n",
              "    }\n",
              "\n",
              "    .dataframe thead th {\n",
              "        text-align: right;\n",
              "    }\n",
              "</style>\n",
              "<table border=\"1\" class=\"dataframe\">\n",
              "  <thead>\n",
              "    <tr style=\"text-align: right;\">\n",
              "      <th></th>\n",
              "      <th>output_address</th>\n",
              "      <th>trxn_count</th>\n",
              "    </tr>\n",
              "  </thead>\n",
              "  <tbody>\n",
              "    <tr>\n",
              "      <th>0</th>\n",
              "      <td>bc1qrm76lr2plkcw6m3r5ng8y7rcwyls9h0q2ferv0</td>\n",
              "      <td>1</td>\n",
              "    </tr>\n",
              "    <tr>\n",
              "      <th>1</th>\n",
              "      <td>bc1q65qm85x4azrdxherzalp9ufcaafm8cuj3ydx6w</td>\n",
              "      <td>1</td>\n",
              "    </tr>\n",
              "    <tr>\n",
              "      <th>2</th>\n",
              "      <td>bc1qsgggr2xhy5v2hx2a7hlen822w0qdz2cch4vlm8</td>\n",
              "      <td>1</td>\n",
              "    </tr>\n",
              "    <tr>\n",
              "      <th>3</th>\n",
              "      <td>bc1qq9jvu9c386eyqqvlj9x8c2mc80r8ahavgmausq</td>\n",
              "      <td>1</td>\n",
              "    </tr>\n",
              "    <tr>\n",
              "      <th>4</th>\n",
              "      <td>bc1qqxptz7en8hx8fuzp9yauznwe3qaq6x4sxghaw9</td>\n",
              "      <td>1</td>\n",
              "    </tr>\n",
              "  </tbody>\n",
              "</table>\n",
              "</div>"
            ],
            "text/plain": [
              "                               output_address  trxn_count\n",
              "0  bc1qrm76lr2plkcw6m3r5ng8y7rcwyls9h0q2ferv0           1\n",
              "1  bc1q65qm85x4azrdxherzalp9ufcaafm8cuj3ydx6w           1\n",
              "2  bc1qsgggr2xhy5v2hx2a7hlen822w0qdz2cch4vlm8           1\n",
              "3  bc1qq9jvu9c386eyqqvlj9x8c2mc80r8ahavgmausq           1\n",
              "4  bc1qqxptz7en8hx8fuzp9yauznwe3qaq6x4sxghaw9           1"
            ]
          },
          "metadata": {
            "tags": []
          },
          "execution_count": 7
        }
      ]
    },
    {
      "cell_type": "markdown",
      "metadata": {
        "id": "npBlwTJN6PDm"
      },
      "source": [
        "Unlike Wasabi wallet, Samourai wallet is not resuing any change address"
      ]
    },
    {
      "cell_type": "markdown",
      "metadata": {
        "id": "rQuJkuTI0-u9"
      },
      "source": [
        "### Last transaction date of the confirmed Samourai transactions"
      ]
    },
    {
      "cell_type": "code",
      "metadata": {
        "colab": {
          "base_uri": "https://localhost:8080/",
          "height": 80
        },
        "id": "ZS57apteeLpK",
        "outputId": "574faa1e-57c1-4b76-edc4-1897a5f838be"
      },
      "source": [
        "#Finding the last active date from the list of conformed samourai transactions\n",
        "SQL = f\"\"\"\n",
        "          SELECT MAX(dt) as max_trxn_date\n",
        "          FROM (\n",
        "                  SELECT \n",
        "                      txn.hash as trxn_hash, DATE(block_timestamp) as dt\n",
        "                  FROM \n",
        "                      `bigquery-public-data.crypto_bitcoin.transactions` AS txn\n",
        "                  WHERE \n",
        "                      txn.hash IN (SELECT trxn_hash FROM `intelligence-team.rishav.samourai_trxns`)\n",
        "                  GROUP BY 1,2    \n",
        "          )\n",
        "\"\"\"\n",
        "conf_samourai_trxns_max_date = run_query(SQL, no_limit=True)\n",
        "conf_samourai_trxns_max_date"
      ],
      "execution_count": 14,
      "outputs": [
        {
          "output_type": "execute_result",
          "data": {
            "text/html": [
              "<div>\n",
              "<style scoped>\n",
              "    .dataframe tbody tr th:only-of-type {\n",
              "        vertical-align: middle;\n",
              "    }\n",
              "\n",
              "    .dataframe tbody tr th {\n",
              "        vertical-align: top;\n",
              "    }\n",
              "\n",
              "    .dataframe thead th {\n",
              "        text-align: right;\n",
              "    }\n",
              "</style>\n",
              "<table border=\"1\" class=\"dataframe\">\n",
              "  <thead>\n",
              "    <tr style=\"text-align: right;\">\n",
              "      <th></th>\n",
              "      <th>max_trxn_date</th>\n",
              "    </tr>\n",
              "  </thead>\n",
              "  <tbody>\n",
              "    <tr>\n",
              "      <th>0</th>\n",
              "      <td>2020-01-05</td>\n",
              "    </tr>\n",
              "  </tbody>\n",
              "</table>\n",
              "</div>"
            ],
            "text/plain": [
              "  max_trxn_date\n",
              "0    2020-01-05"
            ]
          },
          "metadata": {
            "tags": []
          },
          "execution_count": 14
        }
      ]
    },
    {
      "cell_type": "markdown",
      "metadata": {
        "id": "B1hpKVJu7ioM"
      },
      "source": [
        "So from the list of conformed samourai trxns which has 7310 trxns, the last transaction date is 2020-01-05."
      ]
    },
    {
      "cell_type": "markdown",
      "metadata": {
        "id": "6aPkDhrce13g"
      },
      "source": [
        "# Preparing Custom Heuristic to find potentail samourai transactions\n",
        "Rules used:\n",
        "1. Bech32 addresses used in both inputs and outputs side\n",
        "2. Output address and input address count is exactly = 5\n",
        "3. For all the 5 output addresses in a given trxn the outputs.value in BTC is either of these (0.05, 0.25, 2.5)\n",
        "4. Samourai wallet was started after 2015-01-01.\n",
        "6. Fee/byte is less than 15\n",
        "\n"
      ]
    },
    {
      "cell_type": "code",
      "metadata": {
        "colab": {
          "base_uri": "https://localhost:8080/",
          "height": 204
        },
        "id": "r8Gjfw6He09A",
        "outputId": "49d23214-acaf-4d02-8e1d-26c2b428f399"
      },
      "source": [
        "if input = 'Incremental':\n",
        "  SAMOURAI_START_DATE = '2015-01-01'\n",
        "else:\n",
        "  SAMOURAI_START_DATE = \"Today's date\"\n",
        "OUTPUT_VALUE = (0.05, 0.25, 2.5)\n",
        "FEE_SIZE = 15\n",
        "ADDRESS_COUNT = 5\n",
        "SQL = f\"\"\"\n",
        "            WITH segwit_tx_outputs AS (\n",
        "              SELECT\n",
        "              transactions.hash AS tx\n",
        "            , MAX(output_count) AS output_count\n",
        "            , SUM(CASE WHEN ARRAY_TO_STRING(outputs.addresses, \"\") LIKE \"bc1%\" THEN 1 ELSE 0 END) num_segwit_outputs\n",
        "              FROM\n",
        "              `bigquery-public-data.crypto_bitcoin.transactions` AS transactions,\n",
        "              UNNEST(transactions.outputs) AS outputs\n",
        "              WHERE\n",
        "                DATE(block_timestamp_month) >= '{SAMOURAI_START_DATE}'\n",
        "              AND input_count= {ADDRESS_COUNT}\n",
        "              AND output_count= {ADDRESS_COUNT}\n",
        "              AND fee/size<= {FEE_SIZE}\n",
        "              AND output_value/1e8 IN {OUTPUT_VALUE}\n",
        "              GROUP BY 1\n",
        "          ),\n",
        "          segwit_tx_inputs AS (\n",
        "            SELECT\n",
        "              transactions.hash AS tx\n",
        "            , MAX(input_count) AS input_count\n",
        "            , SUM(CASE WHEN ARRAY_TO_STRING(inputs.addresses, \"\") LIKE \"bc1%\" THEN 1 ELSE 0 END) num_segwit_inputs\n",
        "            FROM\n",
        "              `bigquery-public-data.crypto_bitcoin.transactions` AS transactions,\n",
        "              UNNEST(transactions.inputs) AS inputs\n",
        "            WHERE\n",
        "                DATE(block_timestamp_month) >= '{SAMOURAI_START_DATE}'\n",
        "              AND input_count= {ADDRESS_COUNT}\n",
        "              AND output_count= {ADDRESS_COUNT}\n",
        "              AND fee/size<= {FEE_SIZE}\n",
        "              AND output_value/1e8 IN {OUTPUT_VALUE}\n",
        "            GROUP BY 1\n",
        "          ),\n",
        "\n",
        "          samourai_txns as (\n",
        "            SELECT\n",
        "              segwit_tx_outputs.tx as txn\n",
        "            FROM\n",
        "              segwit_tx_outputs\n",
        "            INNER JOIN\n",
        "              segwit_tx_inputs\n",
        "            ON\n",
        "              segwit_tx_outputs.tx = segwit_tx_inputs.tx\n",
        "            WHERE \n",
        "              num_segwit_outputs = output_count AND \n",
        "              num_segwit_inputs = input_count\n",
        "            GROUP BY 1\n",
        "          ),\n",
        "\n",
        "          address_list as (\n",
        "            SELECT \n",
        "            ARRAY_TO_STRING(inputs.addresses,'') as address\n",
        "            FROM \n",
        "              `staging-btc-etl.crypto_bitcoin.inputs_view` AS inputs\n",
        "            WHERE \n",
        "              transaction_hash IN (SELECT txn FROM samourai_txns)\n",
        "            AND DATE(block_timestamp_month) >= '{SAMOURAI_START_DATE}'\n",
        "            GROUP BY 1\n",
        "\n",
        "            UNION DISTINCT\n",
        "\n",
        "            SELECT \n",
        "              ARRAY_TO_STRING(outputs.addresses,'') as address\n",
        "            FROM \n",
        "              `staging-btc-etl.crypto_bitcoin.outputs_view` AS outputs\n",
        "            WHERE \n",
        "              transaction_hash IN (SELECT txn FROM samourai_txns)\n",
        "            AND DATE(block_timestamp_month) >= '{SAMOURAI_START_DATE}'\n",
        "            GROUP BY 1\n",
        "        ),\n",
        "      samourai_final_address_list as\n",
        "        (\n",
        "          SELECT \n",
        "            addresses \n",
        "          FROM \n",
        "              `intelligence-team.clusters.bitcoin`\n",
        "          WHERE \n",
        "              cluster_id IN\n",
        "                (\n",
        "                    SELECT \n",
        "                      cluster_id\n",
        "                    FROM\n",
        "                      `intelligence-team.clusters.bitcoin` \n",
        "                    WHERE\n",
        "                      addresses IN \n",
        "                            (\n",
        "                              SELECT \n",
        "                                address \n",
        "                              FROM \n",
        "                                address_list\n",
        "                            )\n",
        "                    GROUP BY 1\n",
        "                    HAVING \n",
        "                      COUNT(DISTINCT addresses) = 5\n",
        "                )\n",
        "          GROUP BY 1\n",
        "        )\n",
        "        SELECT txn FROM samourai_txns\n",
        "        GROUP BY 1\n",
        "    \n",
        "\n",
        "\"\"\"\n",
        "samourai_txns = run_query(SQL, no_limit=True)\n",
        "samourai_txns.head()"
      ],
      "execution_count": 12,
      "outputs": [
        {
          "output_type": "execute_result",
          "data": {
            "text/html": [
              "<div>\n",
              "<style scoped>\n",
              "    .dataframe tbody tr th:only-of-type {\n",
              "        vertical-align: middle;\n",
              "    }\n",
              "\n",
              "    .dataframe tbody tr th {\n",
              "        vertical-align: top;\n",
              "    }\n",
              "\n",
              "    .dataframe thead th {\n",
              "        text-align: right;\n",
              "    }\n",
              "</style>\n",
              "<table border=\"1\" class=\"dataframe\">\n",
              "  <thead>\n",
              "    <tr style=\"text-align: right;\">\n",
              "      <th></th>\n",
              "      <th>txn</th>\n",
              "    </tr>\n",
              "  </thead>\n",
              "  <tbody>\n",
              "    <tr>\n",
              "      <th>0</th>\n",
              "      <td>78536f22f0ce0d722d352c961d5c23cde4b90979a1bbab...</td>\n",
              "    </tr>\n",
              "    <tr>\n",
              "      <th>1</th>\n",
              "      <td>1d6486dba1b019d09c2a80ed1d4fc29df8f676b109e9c7...</td>\n",
              "    </tr>\n",
              "    <tr>\n",
              "      <th>2</th>\n",
              "      <td>a7c4eab3de10202470df57c70ec9c34ebc0366eeee53c9...</td>\n",
              "    </tr>\n",
              "    <tr>\n",
              "      <th>3</th>\n",
              "      <td>f38a180540d93c126617ea37224131b8d1fa8306587d2b...</td>\n",
              "    </tr>\n",
              "    <tr>\n",
              "      <th>4</th>\n",
              "      <td>8ff8684717921932894bd46971bdfd24afce44e1b0f75a...</td>\n",
              "    </tr>\n",
              "  </tbody>\n",
              "</table>\n",
              "</div>"
            ],
            "text/plain": [
              "                                                 txn\n",
              "0  78536f22f0ce0d722d352c961d5c23cde4b90979a1bbab...\n",
              "1  1d6486dba1b019d09c2a80ed1d4fc29df8f676b109e9c7...\n",
              "2  a7c4eab3de10202470df57c70ec9c34ebc0366eeee53c9...\n",
              "3  f38a180540d93c126617ea37224131b8d1fa8306587d2b...\n",
              "4  8ff8684717921932894bd46971bdfd24afce44e1b0f75a..."
            ]
          },
          "metadata": {
            "tags": []
          },
          "execution_count": 12
        }
      ]
    },
    {
      "cell_type": "code",
      "metadata": {
        "colab": {
          "base_uri": "https://localhost:8080/"
        },
        "id": "8vtpPDvwnlph",
        "outputId": "9cb4e25a-dbde-4afa-8094-bfcb9ef83d9d"
      },
      "source": [
        "# Count of total clustered samourai transactions\n",
        "len(samourai_txns)"
      ],
      "execution_count": 13,
      "outputs": [
        {
          "output_type": "execute_result",
          "data": {
            "text/plain": [
              "72615"
            ]
          },
          "metadata": {
            "tags": []
          },
          "execution_count": 13
        }
      ]
    },
    {
      "cell_type": "markdown",
      "metadata": {
        "id": "iQdv-Sin11ri"
      },
      "source": [
        "### Calculating the total Clustered Samourai Addresses"
      ]
    },
    {
      "cell_type": "code",
      "metadata": {
        "colab": {
          "base_uri": "https://localhost:8080/",
          "height": 204
        },
        "id": "7Qe_BWBY_XFa",
        "outputId": "73ed84f7-6a3b-4f02-9329-999e3cdf3ec5"
      },
      "source": [
        "SQL = f\"\"\"\n",
        "          SELECT \n",
        "              address\n",
        "          FROM \n",
        "            `intelligence-team.rishav.samourai_clustered_addresses`  \n",
        "    \"\"\"\n",
        "samourai_clustered_addresses = run_query(SQL, no_limit=True)\n",
        "samourai_clustered_addresses.head()"
      ],
      "execution_count": null,
      "outputs": [
        {
          "output_type": "execute_result",
          "data": {
            "text/html": [
              "<div>\n",
              "<style scoped>\n",
              "    .dataframe tbody tr th:only-of-type {\n",
              "        vertical-align: middle;\n",
              "    }\n",
              "\n",
              "    .dataframe tbody tr th {\n",
              "        vertical-align: top;\n",
              "    }\n",
              "\n",
              "    .dataframe thead th {\n",
              "        text-align: right;\n",
              "    }\n",
              "</style>\n",
              "<table border=\"1\" class=\"dataframe\">\n",
              "  <thead>\n",
              "    <tr style=\"text-align: right;\">\n",
              "      <th></th>\n",
              "      <th>address</th>\n",
              "    </tr>\n",
              "  </thead>\n",
              "  <tbody>\n",
              "    <tr>\n",
              "      <th>0</th>\n",
              "      <td>bc1q2f5fyfv29zzzzvtxclqlu0q0m8pfmrka3f8r2l</td>\n",
              "    </tr>\n",
              "    <tr>\n",
              "      <th>1</th>\n",
              "      <td>bc1qgmxtq6tyvfk36wrg73g7uq3ty2tepn2fk5x3zw</td>\n",
              "    </tr>\n",
              "    <tr>\n",
              "      <th>2</th>\n",
              "      <td>bc1qvjhtk2xz45gve7k08qfksyuyg7mql9tkmez59u</td>\n",
              "    </tr>\n",
              "    <tr>\n",
              "      <th>3</th>\n",
              "      <td>bc1q8n5txl048fmlx9edadkt9pwa605l03fxx2gryt</td>\n",
              "    </tr>\n",
              "    <tr>\n",
              "      <th>4</th>\n",
              "      <td>bc1ql5pc266sx97nmayyh673l9p4ehkqwxuj6pmx2g</td>\n",
              "    </tr>\n",
              "  </tbody>\n",
              "</table>\n",
              "</div>"
            ],
            "text/plain": [
              "                                      address\n",
              "0  bc1q2f5fyfv29zzzzvtxclqlu0q0m8pfmrka3f8r2l\n",
              "1  bc1qgmxtq6tyvfk36wrg73g7uq3ty2tepn2fk5x3zw\n",
              "2  bc1qvjhtk2xz45gve7k08qfksyuyg7mql9tkmez59u\n",
              "3  bc1q8n5txl048fmlx9edadkt9pwa605l03fxx2gryt\n",
              "4  bc1ql5pc266sx97nmayyh673l9p4ehkqwxuj6pmx2g"
            ]
          },
          "metadata": {
            "tags": []
          },
          "execution_count": 12
        }
      ]
    },
    {
      "cell_type": "markdown",
      "metadata": {
        "id": "KKRp_uXc2ELi"
      },
      "source": [
        "### Count of total clustered Samourai addresses"
      ]
    },
    {
      "cell_type": "code",
      "metadata": {
        "colab": {
          "base_uri": "https://localhost:8080/"
        },
        "id": "7aKILR3omr93",
        "outputId": "63be526c-9909-4775-c435-4da04be57281"
      },
      "source": [
        "# Count of total samourai addresses\n",
        "len(samourai_clustered_addresses)"
      ],
      "execution_count": null,
      "outputs": [
        {
          "output_type": "execute_result",
          "data": {
            "text/plain": [
              "359915"
            ]
          },
          "metadata": {
            "tags": []
          },
          "execution_count": 13
        }
      ]
    },
    {
      "cell_type": "markdown",
      "metadata": {
        "id": "1QmtJ9Y_A5sr"
      },
      "source": [
        "# Sanity Checks"
      ]
    },
    {
      "cell_type": "markdown",
      "metadata": {
        "id": "yEOmBL-_A8ii"
      },
      "source": [
        "## Cluster Size check\n",
        "Checking the cluster size of the clustered samourai addresses"
      ]
    },
    {
      "cell_type": "code",
      "metadata": {
        "colab": {
          "base_uri": "https://localhost:8080/",
          "height": 419
        },
        "id": "z0abeODGA7nK",
        "outputId": "ae697eb1-9569-4848-f4c1-e6c25ba8552b"
      },
      "source": [
        "SQL = f\"\"\"\n",
        "          SELECT cluster_id, count(distinct addresses) as address_count ,min(addresses) as address\n",
        "          FROM `intelligence-team.clusters.bitcoin` \n",
        "          WHERE cluster_id IN (SELECT cluster_id FROM `intelligence-team.clusters.bitcoin` WHERE addresses IN (SELECT address FROM `intelligence-team.rishav.samourai_clustered_addresses`))\n",
        "          GROUP BY 1\n",
        "          ORDER BY 2 DESC\n",
        "          LIMIT 200\n",
        "    \"\"\"\n",
        "samourai_addresses_cluster = run_query(SQL, no_limit=True)\n",
        "samourai_addresses_cluster"
      ],
      "execution_count": null,
      "outputs": [
        {
          "output_type": "execute_result",
          "data": {
            "text/html": [
              "<div>\n",
              "<style scoped>\n",
              "    .dataframe tbody tr th:only-of-type {\n",
              "        vertical-align: middle;\n",
              "    }\n",
              "\n",
              "    .dataframe tbody tr th {\n",
              "        vertical-align: top;\n",
              "    }\n",
              "\n",
              "    .dataframe thead th {\n",
              "        text-align: right;\n",
              "    }\n",
              "</style>\n",
              "<table border=\"1\" class=\"dataframe\">\n",
              "  <thead>\n",
              "    <tr style=\"text-align: right;\">\n",
              "      <th></th>\n",
              "      <th>cluster_id</th>\n",
              "      <th>address_count</th>\n",
              "      <th>address</th>\n",
              "    </tr>\n",
              "  </thead>\n",
              "  <tbody>\n",
              "    <tr>\n",
              "      <th>0</th>\n",
              "      <td>93575479997565</td>\n",
              "      <td>294</td>\n",
              "      <td>bc1q0ch8xydpcsxgq57udmkn3qlqj99ugr7pyc0j3c</td>\n",
              "    </tr>\n",
              "    <tr>\n",
              "      <th>1</th>\n",
              "      <td>93501999998072</td>\n",
              "      <td>159</td>\n",
              "      <td>bc1q0696v0amkk8uggtwl0tca5jhxtgrxv2j2cw3m5</td>\n",
              "    </tr>\n",
              "    <tr>\n",
              "      <th>2</th>\n",
              "      <td>93128589999452</td>\n",
              "      <td>99</td>\n",
              "      <td>bc1q00gwe7at5f7yc0qzf40w2a3a2pmrn83j9j9wxv</td>\n",
              "    </tr>\n",
              "    <tr>\n",
              "      <th>3</th>\n",
              "      <td>93522419999952</td>\n",
              "      <td>86</td>\n",
              "      <td>bc1q03538xjwxdt4m639xljzye6gqd6dvy8ggvd3nx</td>\n",
              "    </tr>\n",
              "    <tr>\n",
              "      <th>4</th>\n",
              "      <td>93518509997949</td>\n",
              "      <td>81</td>\n",
              "      <td>bc1q0ttga8vr0slv8dc0m9us9k6f43mkf3a3u9jqam</td>\n",
              "    </tr>\n",
              "    <tr>\n",
              "      <th>...</th>\n",
              "      <td>...</td>\n",
              "      <td>...</td>\n",
              "      <td>...</td>\n",
              "    </tr>\n",
              "    <tr>\n",
              "      <th>195</th>\n",
              "      <td>93801709999927</td>\n",
              "      <td>9</td>\n",
              "      <td>bc1q3a858dkxy7qthr2vfnm5fmuuupqwp7jw5dlwq4</td>\n",
              "    </tr>\n",
              "    <tr>\n",
              "      <th>196</th>\n",
              "      <td>93520429999414</td>\n",
              "      <td>9</td>\n",
              "      <td>bc1q7409jpnt6cczl9le9zej0dtwpewpelrvsc7vr5</td>\n",
              "    </tr>\n",
              "    <tr>\n",
              "      <th>197</th>\n",
              "      <td>93562539999157</td>\n",
              "      <td>9</td>\n",
              "      <td>bc1q47h65qn7j7k4vr28eh5spvj20pnm2v7knk7hyt</td>\n",
              "    </tr>\n",
              "    <tr>\n",
              "      <th>198</th>\n",
              "      <td>93396869999456</td>\n",
              "      <td>9</td>\n",
              "      <td>bc1q096jfththu4n9zmmtsqay5j8lljx5dtzw4rhat</td>\n",
              "    </tr>\n",
              "    <tr>\n",
              "      <th>199</th>\n",
              "      <td>93737929998808</td>\n",
              "      <td>9</td>\n",
              "      <td>bc1q0u76vt3t0xkggfkrd5hlz4j3upgy0fyvvxh3tl</td>\n",
              "    </tr>\n",
              "  </tbody>\n",
              "</table>\n",
              "<p>200 rows × 3 columns</p>\n",
              "</div>"
            ],
            "text/plain": [
              "         cluster_id  address_count                                     address\n",
              "0    93575479997565            294  bc1q0ch8xydpcsxgq57udmkn3qlqj99ugr7pyc0j3c\n",
              "1    93501999998072            159  bc1q0696v0amkk8uggtwl0tca5jhxtgrxv2j2cw3m5\n",
              "2    93128589999452             99  bc1q00gwe7at5f7yc0qzf40w2a3a2pmrn83j9j9wxv\n",
              "3    93522419999952             86  bc1q03538xjwxdt4m639xljzye6gqd6dvy8ggvd3nx\n",
              "4    93518509997949             81  bc1q0ttga8vr0slv8dc0m9us9k6f43mkf3a3u9jqam\n",
              "..              ...            ...                                         ...\n",
              "195  93801709999927              9  bc1q3a858dkxy7qthr2vfnm5fmuuupqwp7jw5dlwq4\n",
              "196  93520429999414              9  bc1q7409jpnt6cczl9le9zej0dtwpewpelrvsc7vr5\n",
              "197  93562539999157              9  bc1q47h65qn7j7k4vr28eh5spvj20pnm2v7knk7hyt\n",
              "198  93396869999456              9  bc1q096jfththu4n9zmmtsqay5j8lljx5dtzw4rhat\n",
              "199  93737929998808              9  bc1q0u76vt3t0xkggfkrd5hlz4j3upgy0fyvvxh3tl\n",
              "\n",
              "[200 rows x 3 columns]"
            ]
          },
          "metadata": {
            "tags": []
          },
          "execution_count": 14
        }
      ]
    },
    {
      "cell_type": "code",
      "metadata": {
        "colab": {
          "base_uri": "https://localhost:8080/",
          "height": 824
        },
        "id": "0xs-jZhtB0-v",
        "outputId": "1e81fde7-7f28-40fa-8c46-4514ba3a3b82"
      },
      "source": [
        "SQL = f\"\"\"\n",
        "          SELECT address_count, COUNT(DISTINCT cluster_id) as clusterId_count\n",
        "          FROM\n",
        "            (\n",
        "                SELECT cluster_id, count(distinct addresses) as address_count ,min(addresses) as address\n",
        "                FROM `intelligence-team.clusters.bitcoin` \n",
        "                WHERE cluster_id IN (SELECT cluster_id FROM `intelligence-team.clusters.bitcoin` WHERE addresses IN (SELECT address FROM `intelligence-team.rishav.samourai_clustered_addresses`))\n",
        "                GROUP BY 1\n",
        "            )\n",
        "          GROUP BY 1\n",
        "          ORDER BY 1 DESC\n",
        "    \"\"\"\n",
        "samourai_addresses_cluster_check = run_query(SQL, no_limit=True)\n",
        "samourai_addresses_cluster_check"
      ],
      "execution_count": null,
      "outputs": [
        {
          "output_type": "execute_result",
          "data": {
            "text/html": [
              "<div>\n",
              "<style scoped>\n",
              "    .dataframe tbody tr th:only-of-type {\n",
              "        vertical-align: middle;\n",
              "    }\n",
              "\n",
              "    .dataframe tbody tr th {\n",
              "        vertical-align: top;\n",
              "    }\n",
              "\n",
              "    .dataframe thead th {\n",
              "        text-align: right;\n",
              "    }\n",
              "</style>\n",
              "<table border=\"1\" class=\"dataframe\">\n",
              "  <thead>\n",
              "    <tr style=\"text-align: right;\">\n",
              "      <th></th>\n",
              "      <th>address_count</th>\n",
              "      <th>clusterId_count</th>\n",
              "    </tr>\n",
              "  </thead>\n",
              "  <tbody>\n",
              "    <tr>\n",
              "      <th>0</th>\n",
              "      <td>294</td>\n",
              "      <td>1</td>\n",
              "    </tr>\n",
              "    <tr>\n",
              "      <th>1</th>\n",
              "      <td>159</td>\n",
              "      <td>1</td>\n",
              "    </tr>\n",
              "    <tr>\n",
              "      <th>2</th>\n",
              "      <td>99</td>\n",
              "      <td>1</td>\n",
              "    </tr>\n",
              "    <tr>\n",
              "      <th>3</th>\n",
              "      <td>86</td>\n",
              "      <td>1</td>\n",
              "    </tr>\n",
              "    <tr>\n",
              "      <th>4</th>\n",
              "      <td>81</td>\n",
              "      <td>1</td>\n",
              "    </tr>\n",
              "    <tr>\n",
              "      <th>5</th>\n",
              "      <td>67</td>\n",
              "      <td>1</td>\n",
              "    </tr>\n",
              "    <tr>\n",
              "      <th>6</th>\n",
              "      <td>47</td>\n",
              "      <td>1</td>\n",
              "    </tr>\n",
              "    <tr>\n",
              "      <th>7</th>\n",
              "      <td>39</td>\n",
              "      <td>1</td>\n",
              "    </tr>\n",
              "    <tr>\n",
              "      <th>8</th>\n",
              "      <td>38</td>\n",
              "      <td>2</td>\n",
              "    </tr>\n",
              "    <tr>\n",
              "      <th>9</th>\n",
              "      <td>32</td>\n",
              "      <td>1</td>\n",
              "    </tr>\n",
              "    <tr>\n",
              "      <th>10</th>\n",
              "      <td>26</td>\n",
              "      <td>3</td>\n",
              "    </tr>\n",
              "    <tr>\n",
              "      <th>11</th>\n",
              "      <td>25</td>\n",
              "      <td>2</td>\n",
              "    </tr>\n",
              "    <tr>\n",
              "      <th>12</th>\n",
              "      <td>23</td>\n",
              "      <td>1</td>\n",
              "    </tr>\n",
              "    <tr>\n",
              "      <th>13</th>\n",
              "      <td>21</td>\n",
              "      <td>1</td>\n",
              "    </tr>\n",
              "    <tr>\n",
              "      <th>14</th>\n",
              "      <td>19</td>\n",
              "      <td>1</td>\n",
              "    </tr>\n",
              "    <tr>\n",
              "      <th>15</th>\n",
              "      <td>15</td>\n",
              "      <td>2</td>\n",
              "    </tr>\n",
              "    <tr>\n",
              "      <th>16</th>\n",
              "      <td>14</td>\n",
              "      <td>2</td>\n",
              "    </tr>\n",
              "    <tr>\n",
              "      <th>17</th>\n",
              "      <td>13</td>\n",
              "      <td>19</td>\n",
              "    </tr>\n",
              "    <tr>\n",
              "      <th>18</th>\n",
              "      <td>12</td>\n",
              "      <td>1</td>\n",
              "    </tr>\n",
              "    <tr>\n",
              "      <th>19</th>\n",
              "      <td>11</td>\n",
              "      <td>1</td>\n",
              "    </tr>\n",
              "    <tr>\n",
              "      <th>20</th>\n",
              "      <td>9</td>\n",
              "      <td>1131</td>\n",
              "    </tr>\n",
              "    <tr>\n",
              "      <th>21</th>\n",
              "      <td>8</td>\n",
              "      <td>4</td>\n",
              "    </tr>\n",
              "    <tr>\n",
              "      <th>22</th>\n",
              "      <td>6</td>\n",
              "      <td>2</td>\n",
              "    </tr>\n",
              "    <tr>\n",
              "      <th>23</th>\n",
              "      <td>5</td>\n",
              "      <td>70127</td>\n",
              "    </tr>\n",
              "    <tr>\n",
              "      <th>24</th>\n",
              "      <td>1</td>\n",
              "      <td>273</td>\n",
              "    </tr>\n",
              "  </tbody>\n",
              "</table>\n",
              "</div>"
            ],
            "text/plain": [
              "    address_count  clusterId_count\n",
              "0             294                1\n",
              "1             159                1\n",
              "2              99                1\n",
              "3              86                1\n",
              "4              81                1\n",
              "5              67                1\n",
              "6              47                1\n",
              "7              39                1\n",
              "8              38                2\n",
              "9              32                1\n",
              "10             26                3\n",
              "11             25                2\n",
              "12             23                1\n",
              "13             21                1\n",
              "14             19                1\n",
              "15             15                2\n",
              "16             14                2\n",
              "17             13               19\n",
              "18             12                1\n",
              "19             11                1\n",
              "20              9             1131\n",
              "21              8                4\n",
              "22              6                2\n",
              "23              5            70127\n",
              "24              1              273"
            ]
          },
          "metadata": {
            "tags": []
          },
          "execution_count": 16
        }
      ]
    },
    {
      "cell_type": "markdown",
      "metadata": {
        "id": "GDixm6RLCg9Z"
      },
      "source": [
        "We got only one cluster of size 294 addresses, most (>98%) of the cluster size is of 5 which is expected."
      ]
    },
    {
      "cell_type": "markdown",
      "metadata": {
        "id": "ziyNKS3BGGGP"
      },
      "source": [
        "## Duplicity Check\n",
        "Checking if any of the clustered wasabi addresses is already tagged in our database"
      ]
    },
    {
      "cell_type": "code",
      "metadata": {
        "colab": {
          "base_uri": "https://localhost:8080/",
          "height": 49
        },
        "id": "mRnOcP4NEhI8",
        "outputId": "0fd4f1e5-be5f-40a1-f539-4a2005bad0c3"
      },
      "source": [
        "SQL = f\"\"\"\n",
        "          SELECT \n",
        "            tag_name_verbose, addresses \n",
        "          FROM \n",
        "            `intelligence-team.bitcoin_flat.cluster_poing_tagging_view`\n",
        "          WHERE \n",
        "            addresses IN \n",
        "                    (\n",
        "                      SELECT \n",
        "                          address\n",
        "                      FROM \n",
        "                        `intelligence-team.rishav.samourai_clustered_addresses`\n",
        "                    )\n",
        "          ORDER BY 1\n",
        "    \"\"\"\n",
        "samourai_duplicate_addresses = run_query(SQL, no_limit=True)\n",
        "samourai_duplicate_addresses"
      ],
      "execution_count": null,
      "outputs": [
        {
          "output_type": "execute_result",
          "data": {
            "text/html": [
              "<div>\n",
              "<style scoped>\n",
              "    .dataframe tbody tr th:only-of-type {\n",
              "        vertical-align: middle;\n",
              "    }\n",
              "\n",
              "    .dataframe tbody tr th {\n",
              "        vertical-align: top;\n",
              "    }\n",
              "\n",
              "    .dataframe thead th {\n",
              "        text-align: right;\n",
              "    }\n",
              "</style>\n",
              "<table border=\"1\" class=\"dataframe\">\n",
              "  <thead>\n",
              "    <tr style=\"text-align: right;\">\n",
              "      <th></th>\n",
              "      <th>tag_name_verbose</th>\n",
              "      <th>addresses</th>\n",
              "    </tr>\n",
              "  </thead>\n",
              "  <tbody>\n",
              "  </tbody>\n",
              "</table>\n",
              "</div>"
            ],
            "text/plain": [
              "Empty DataFrame\n",
              "Columns: [tag_name_verbose, addresses]\n",
              "Index: []"
            ]
          },
          "metadata": {
            "tags": []
          },
          "execution_count": 17
        }
      ]
    },
    {
      "cell_type": "markdown",
      "metadata": {
        "id": "zqHfUlOHDFcZ"
      },
      "source": [
        "No addresses from clustered samourai addresses were found to be duplicate/tagged in our database."
      ]
    },
    {
      "cell_type": "markdown",
      "metadata": {
        "id": "rqLp-3DEGxY-"
      },
      "source": [
        "## Precision\n",
        "Of all clustered samourai transaction, what proportion were actual samourai transaction"
      ]
    },
    {
      "cell_type": "code",
      "metadata": {
        "colab": {
          "base_uri": "https://localhost:8080/"
        },
        "id": "d906UBwuG911",
        "outputId": "877b1ac2-c127-4021-c979-e2984496757e"
      },
      "source": [
        "## Total confirmed samourai transaction we have is\n",
        "conf_samourai_trxns_count= len(conf_samourai_trxns)\n",
        "conf_samourai_trxns_count"
      ],
      "execution_count": 9,
      "outputs": [
        {
          "output_type": "execute_result",
          "data": {
            "text/plain": [
              "7310"
            ]
          },
          "metadata": {
            "tags": []
          },
          "execution_count": 9
        }
      ]
    },
    {
      "cell_type": "markdown",
      "metadata": {
        "id": "N56rAUmzH1yK"
      },
      "source": [
        "Ok, so we got a total of 7310 transactions which are confirmed samourai transaction and the max date for those list of confirmed trxns is 2020-01-05\n",
        "\n",
        "Now we need to filter out our clustered transactions till Jan 5th 2020."
      ]
    },
    {
      "cell_type": "code",
      "metadata": {
        "colab": {
          "base_uri": "https://localhost:8080/",
          "height": 80
        },
        "id": "s4NqUzzbIZul",
        "outputId": "7da2046b-981c-4e45-b3c8-62ca8edc8bb9"
      },
      "source": [
        "SQL = f\"\"\"\n",
        "          SELECT \n",
        "              COUNT(DISTINCT txn.hash)\n",
        "          FROM \n",
        "              `bigquery-public-data.crypto_bitcoin.transactions` AS txn\n",
        "          WHERE \n",
        "              txn.hash IN (SELECT txn FROM `intelligence-team.rishav.samourai_clustered_trxns_fee`)\n",
        "          AND \n",
        "            DATE(block_timestamp) <= '2020-01-05'\n",
        "    \"\"\"\n",
        "samouri_cluster_trxns_jan20_count = run_query(SQL, no_limit=True)\n",
        "samouri_cluster_trxns_jan20_count"
      ],
      "execution_count": 10,
      "outputs": [
        {
          "output_type": "execute_result",
          "data": {
            "text/html": [
              "<div>\n",
              "<style scoped>\n",
              "    .dataframe tbody tr th:only-of-type {\n",
              "        vertical-align: middle;\n",
              "    }\n",
              "\n",
              "    .dataframe tbody tr th {\n",
              "        vertical-align: top;\n",
              "    }\n",
              "\n",
              "    .dataframe thead th {\n",
              "        text-align: right;\n",
              "    }\n",
              "</style>\n",
              "<table border=\"1\" class=\"dataframe\">\n",
              "  <thead>\n",
              "    <tr style=\"text-align: right;\">\n",
              "      <th></th>\n",
              "      <th>f0_</th>\n",
              "    </tr>\n",
              "  </thead>\n",
              "  <tbody>\n",
              "    <tr>\n",
              "      <th>0</th>\n",
              "      <td>7789</td>\n",
              "    </tr>\n",
              "  </tbody>\n",
              "</table>\n",
              "</div>"
            ],
            "text/plain": [
              "    f0_\n",
              "0  7789"
            ]
          },
          "metadata": {
            "tags": []
          },
          "execution_count": 10
        }
      ]
    },
    {
      "cell_type": "code",
      "metadata": {
        "id": "Zhk7B7GXKFKS"
      },
      "source": [
        "samouri_cluster_trxns_jan20_count = int(samouri_cluster_trxns_jan20_count['f0_'])"
      ],
      "execution_count": 11,
      "outputs": []
    },
    {
      "cell_type": "code",
      "metadata": {
        "colab": {
          "base_uri": "https://localhost:8080/"
        },
        "id": "4BlJWksBKQI6",
        "outputId": "618a93be-68c6-4e85-be4a-fcd17f246dec"
      },
      "source": [
        "samouri_cluster_trxns_jan20_count"
      ],
      "execution_count": 13,
      "outputs": [
        {
          "output_type": "execute_result",
          "data": {
            "text/plain": [
              "7789"
            ]
          },
          "metadata": {
            "tags": []
          },
          "execution_count": 13
        }
      ]
    },
    {
      "cell_type": "code",
      "metadata": {
        "colab": {
          "base_uri": "https://localhost:8080/"
        },
        "id": "rIArk0jSKSw_",
        "outputId": "86ee344f-2924-4a54-fbad-c1718e1dcd88"
      },
      "source": [
        "SQL = f\"\"\"\n",
        "            with clustered_samouri_trxns as\n",
        "                  (\n",
        "                            SELECT \n",
        "                                txn.hash as transaction_hash\n",
        "                            FROM \n",
        "                                `bigquery-public-data.crypto_bitcoin.transactions` AS txn\n",
        "                            WHERE \n",
        "                                txn.hash IN (SELECT txn FROM `intelligence-team.rishav.samourai_clustered_trxns_fee`)\n",
        "                            AND \n",
        "                              DATE(block_timestamp) <= '2020-01-05'\n",
        "                  )\n",
        "\n",
        "            SELECT \n",
        "                COUNT(DISTINCT transaction_hash)\n",
        "            FROM \n",
        "                clustered_samouri_trxns\n",
        "            WHERE \n",
        "                transaction_hash IN \n",
        "                          (\n",
        "                              SELECT \n",
        "                                  trxn_hash\n",
        "                              FROM\n",
        "                                  `intelligence-team.rishav.samourai_trxns`\n",
        "                              GROUP BY 1   \n",
        "                        )\n",
        "    \"\"\"\n",
        "samourai_cluster_trxns_jan20_precision_count = run_query(SQL, no_limit=True)\n",
        "samourai_cluster_trxns_jan20_precision_count = int(samourai_cluster_trxns_jan20_precision_count['f0_'])\n",
        "samourai_cluster_trxns_jan20_precision_count"
      ],
      "execution_count": 14,
      "outputs": [
        {
          "output_type": "execute_result",
          "data": {
            "text/plain": [
              "7310"
            ]
          },
          "metadata": {
            "tags": []
          },
          "execution_count": 14
        }
      ]
    },
    {
      "cell_type": "code",
      "metadata": {
        "colab": {
          "base_uri": "https://localhost:8080/"
        },
        "id": "F_nfEUMnNhbN",
        "outputId": "bea87493-adfc-4172-bd50-0e6658e71ade"
      },
      "source": [
        "#Calculating Precision\n",
        "Precision = round(samourai_cluster_trxns_jan20_precision_count/samouri_cluster_trxns_jan20_count,4)\n",
        "Precision"
      ],
      "execution_count": 15,
      "outputs": [
        {
          "output_type": "execute_result",
          "data": {
            "text/plain": [
              "0.9385"
            ]
          },
          "metadata": {
            "tags": []
          },
          "execution_count": 15
        }
      ]
    },
    {
      "cell_type": "markdown",
      "metadata": {
        "id": "5nPTUn0OOh_w"
      },
      "source": [
        "## Recall\n",
        "of all confirmed samourai transactions, what proportion did we actaully clustered "
      ]
    },
    {
      "cell_type": "code",
      "metadata": {
        "colab": {
          "base_uri": "https://localhost:8080/"
        },
        "id": "gqITkJs_Ozzn",
        "outputId": "88d95378-b12d-4eb2-f845-cf4975b32db4"
      },
      "source": [
        "#Calculating Recall\n",
        "Recall = round(samourai_cluster_trxns_jan20_precision_count/len(conf_samourai_trxns),4)\n",
        "Recall"
      ],
      "execution_count": 16,
      "outputs": [
        {
          "output_type": "execute_result",
          "data": {
            "text/plain": [
              "1.0"
            ]
          },
          "metadata": {
            "tags": []
          },
          "execution_count": 16
        }
      ]
    }
  ]
}